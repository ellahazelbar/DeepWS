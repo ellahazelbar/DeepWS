{
 "cells": [
  {
   "cell_type": "code",
   "execution_count": 18,
   "id": "941d6943",
   "metadata": {},
   "outputs": [],
   "source": [
    "import cv2\n",
    "import numpy as np\n",
    "import os\n",
    "from matplotlib import pyplot as plt\n",
    "import time\n",
    "import mediapipe as mp"
   ]
  },
  {
   "cell_type": "code",
   "execution_count": 19,
   "id": "77887444",
   "metadata": {},
   "outputs": [],
   "source": [
    "mp_holistic = mp.solutions.holistic #holistic model\n",
    "mp_drawing = mp.solutions.drawing_utils "
   ]
  },
  {
   "cell_type": "code",
   "execution_count": 20,
   "id": "a4138262",
   "metadata": {},
   "outputs": [],
   "source": [
    "def mediapipe_detection(image, model): #mediapipe holistic model\n",
    "    image = cv2.cvtColor(image, cv2.COLOR_BGR2RGB) #color conversion\n",
    "    image.flags.writeable = False\n",
    "    res = model.process(image) #make prediction\n",
    "    image.flags.writeable = True\n",
    "    image = cv2.cvtColor(image, cv2.COLOR_RGB2BGR) #color conversion back\n",
    "\n",
    "    return image, res"
   ]
  },
  {
   "cell_type": "code",
   "execution_count": 42,
   "id": "170a3019",
   "metadata": {},
   "outputs": [],
   "source": [
    "def draw_landmarks(image, res):\n",
    "    mp_drawing.draw_landmarks(image,res.face_landmarks, mp_holistic.FACEMESH_TESSELATION,\n",
    "                              mp_drawing.DrawingSpec(color=(80,110,10), thickness=1, circle_radius=1),\n",
    "                              mp_drawing.DrawingSpec(color=(80,256,121), thickness=1, circle_radius=1)) \n",
    "    mp_drawing.draw_landmarks(image,res.pose_landmarks, mp_holistic.POSE_CONNECTIONS,\n",
    "                              mp_drawing.DrawingSpec(color=(80,110,10), thickness=2, circle_radius=3),\n",
    "                              mp_drawing.DrawingSpec(color=(80,256,121), thickness=2, circle_radius=2)) \n",
    "    mp_drawing.draw_landmarks(image,res.left_hand_landmarks, mp_holistic.HAND_CONNECTIONS,\n",
    "                              mp_drawing.DrawingSpec(color=(80,110,10), thickness=2, circle_radius=3),\n",
    "                              mp_drawing.DrawingSpec(color=(80,256,121), thickness=2, circle_radius=2)) \n",
    "    mp_drawing.draw_landmarks(image,res.right_hand_landmarks, mp_holistic.HAND_CONNECTIONS,\n",
    "                              mp_drawing.DrawingSpec(color=(80,110,10), thickness=2, circle_radius=3),\n",
    "                              mp_drawing.DrawingSpec(color=(80,256,121), thickness=2, circle_radius=2)) \n",
    "    "
   ]
  },
  {
   "cell_type": "code",
   "execution_count": null,
   "id": "de5a9d7f",
   "metadata": {},
   "outputs": [],
   "source": [
    "cap = cv2.VideoCapture(0) #default bgr need rgb\n",
    "#set mediapipe model\n",
    "with mp_holistic.Holistic(min_detection_confidence=0.5, min_tracking_confidence=0.5) as holistic:#detection is initial detection \n",
    "    while cap.isOpened():\n",
    "        ret, frame = cap.read()\n",
    "    \n",
    "        image, result = mediapipe_detection(frame, holistic)\n",
    "\n",
    "        draw_landmarks(image, result)\n",
    "\n",
    "        cv2.imshow('OpenCV Feed', image)\n",
    "\n",
    "        if cv2.waitKey(10) & 0xFF == ord('q'):\n",
    "            break\n",
    "\n",
    "    cap.release()\n",
    "    cv2.destroyAllWindows()"
   ]
  },
  {
   "cell_type": "code",
   "execution_count": null,
   "id": "a4113eb0",
   "metadata": {},
   "outputs": [],
   "source": [
    "def extract_keypoints(result):\n",
    "    pose = np.array([[res.x, res.y, res.z, res.visibility] for res in result.pose_landmarks.landmark]).flatten() if result.pose_landmarks else np.zeros(132)\n",
    "    face = np.array([[res.x, res.y, res.z] for res in result.face_landmarks.landmark]).flatten() if result.pose_landmarks else np.zeros(1404)\n",
    "    left_hand = np.array([[res.x, res.y, res.z] for res in result.left_hand_landmarks.landmark]).flatten() if result.left_hand_landmarks else np.zeros(63)\n",
    "    right_hand = np.array([[res.x, res.y, res.z] for res in result.right_hand_landmarks.landmark]).flatten() if result.right_hand_landmarks else np.zeros(63)\n",
    "    \n",
    "    return np.concatenate([pose, right_hand, left_hand, face])"
   ]
  },
  {
   "cell_type": "code",
   "execution_count": 71,
   "id": "ec6f44cb",
   "metadata": {},
   "outputs": [
    {
     "data": {
      "text/plain": [
       "(1662,)"
      ]
     },
     "execution_count": 71,
     "metadata": {},
     "output_type": "execute_result"
    }
   ],
   "source": [
    "extract_keypoints(result).shape"
   ]
  }
 ],
 "metadata": {
  "kernelspec": {
   "display_name": "Python 3",
   "language": "python",
   "name": "python3"
  },
  "language_info": {
   "codemirror_mode": {
    "name": "ipython",
    "version": 3
   },
   "file_extension": ".py",
   "mimetype": "text/x-python",
   "name": "python",
   "nbconvert_exporter": "python",
   "pygments_lexer": "ipython3",
   "version": "3.10.0"
  }
 },
 "nbformat": 4,
 "nbformat_minor": 5
}
